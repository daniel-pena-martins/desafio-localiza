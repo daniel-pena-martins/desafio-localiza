{
  "nbformat": 4,
  "nbformat_minor": 0,
  "metadata": {
    "colab": {
      "name": "Localiza_desafio_2.ipynb",
      "provenance": [],
      "collapsed_sections": [
        "C1jFOdYcJp49"
      ],
      "toc_visible": true
    },
    "kernelspec": {
      "name": "python3",
      "display_name": "Python 3"
    },
    "language_info": {
      "name": "python"
    }
  },
  "cells": [
    {
      "cell_type": "markdown",
      "metadata": {
        "id": "TyCVVm_htyma"
      },
      "source": [
        "# Localiza desafio 2"
      ]
    },
    {
      "cell_type": "markdown",
      "metadata": {
        "id": "YOeYFMZCt3pr"
      },
      "source": [
        "Antes de apresentar as análises para a liderança, você decide se reunir com seu colega\n",
        "de trabalho para discutirem os resultados e se estruturarem para a apresentação. No entanto,\n",
        "para isso, é preciso identificar um horário na agenda que seja factível para ambos.\n",
        "\n",
        "**Dadas as agendas de duas pessoas e seus respectivos horários de trabalho, escreva\n",
        "um algoritmo que retorna todos os horários nos quais ambas as pessoas estariam disponíveis\n",
        "para uma reunião de t minutos.**\n",
        "\n",
        "As agendas serão compostas por uma lista de n compromissos previamente marcados.\n",
        "Esses compromissos, por sua vez, serão representados por uma lista ou tuple de duas strings,\n",
        "no qual o primeiro elemento representa o horário de início do compromisso e o último elemento\n",
        "o horário de término. A jornada de trabalho terá o mesmo formato de um compromisso, no qual\n",
        "o primeiro elemento representa o horário de início do turno e o último elemento o horário final da\n",
        "jornada. O tempo da reunião, em minutos, será um inteiro. Por fim, espera-se que o resultado\n",
        "esteja no mesmo formato das agendas, nos quais os “compromissos”, nesse caso,\n",
        "correspondem aos horários disponíveis para a reunião.\n",
        "\n",
        "**Exemplo:** Considere o seguinte cenário:\n",
        "1. Agenda da pessoa A: [['9:00', '10:30'], ['12:00', '13:00'], ['16:00', '18:00']]\n",
        "2. Horário de Trabalho da pessoa A: ['9:00', '20:00']\n",
        "3. Agenda da pessoa B: [['10:00', '11:30'], ['12:30', '14:30'], ['14:30', '15:00'], ['16:00',\n",
        "'17:00']]\n",
        "4. Horário de Trabalho da pessoa B: ['10:00', '18:30']\n",
        "\n",
        "Os horários que possibilitam uma reunião de 30 minutos entre a pessoa A e pessoa B são:\n",
        "[['11:30', '12:00'], ['15:00', '16:00'], ['18:00', '18:30']]"
      ]
    },
    {
      "cell_type": "markdown",
      "metadata": {
        "id": "L_T8gasiqCB3"
      },
      "source": [
        "Nesse primeiro pedaço de código estou apenas inputando os horários e jornadas de trabalho descritas no enunciado:"
      ]
    },
    {
      "cell_type": "code",
      "metadata": {
        "id": "xLb8DTdmTPBU"
      },
      "source": [
        "schedules = {'A': [],\n",
        "             'B': []}\n",
        "\n",
        "journey = {'A': [],\n",
        "           'B': []}\n",
        "\n",
        "schedules['A'].append(['9:00', '10:30'])\n",
        "schedules['A'].append(['12:00', '13:00'])\n",
        "schedules['A'].append(['16:00', '18:00'])\n",
        "\n",
        "journey['A'].append(['9:00', '20:00'])\n",
        "\n",
        "schedules['B'].append(['10:00', '11:30'])\n",
        "schedules['B'].append(['12:30', '14:30'])\n",
        "schedules['B'].append(['14:30', '15:00'])\n",
        "schedules['B'].append(['16:00', '17:00'])\n",
        "\n",
        "journey['B'].append(['10:00', '18:30'])\n"
      ],
      "execution_count": 4,
      "outputs": []
    },
    {
      "cell_type": "markdown",
      "metadata": {
        "id": "XmTt6vYaqPPO"
      },
      "source": [
        "No segundo pedaço de código estou declarando duas funções auxiliares, elas me ajudarão a navegar entre dois formatos de horário:\n",
        " - horários em HH:MM, \"user-friendly\" para o usuário ler melhor (ou inputar em versões mais sofisticadas em que o usuário adiciona outros horários)\n",
        " - número de minutos, de uso interno, que permite fazer cálculos e comparações matemáticas"
      ]
    },
    {
      "cell_type": "code",
      "metadata": {
        "id": "clb24ZSeVxDg"
      },
      "source": [
        "def timeToMinutes(t):\n",
        "  # This function returns number of minutes of a time object t written as HH:MM.\n",
        "  hour = t.split(':')[0]\n",
        "  minute = t.split(':')[1]\n",
        "  return int(hour)*60 + int(minute)\n",
        "\n",
        "def minutesToTime(t):\n",
        "  # This function returns a time written as HH:MM from a t number of minutes.\n",
        "  hour = int(t/60)\n",
        "  hour = '0'+str(hour)\n",
        "  hour = hour[-2:]\n",
        "  minute = int(t)%60\n",
        "  minute = '0'+str(minute)\n",
        "  minute = minute[-2:]\n",
        "  return hour+':'+minute\n"
      ],
      "execution_count": 1,
      "outputs": []
    },
    {
      "cell_type": "markdown",
      "metadata": {
        "id": "_jCTSjIApFaF"
      },
      "source": [
        "Nesse terceiro pedaço definirei outra função que vai me auxiliar na função principal, ela define em que horários do dia irei procurar por disponibilidade na agenda, dado o horário de trabalho de cada agente. Basicamente define uma \"jornada comum\" entre as duas jornadas de trabalho."
      ]
    },
    {
      "cell_type": "code",
      "metadata": {
        "id": "_sdEB0wRpC19"
      },
      "source": [
        "def commonJourney():\n",
        "  #this function defines where to look for available time slots depending on each person's working journey, \n",
        "  #In other words we are looking for timeframes when all people are working\n",
        "  \n",
        "  starting_minutes = {}\n",
        "  ending_minutes = {}\n",
        "\n",
        "  for person in journey:\n",
        "    starting_minutes[person] = timeToMinutes(journey[person][0][0])\n",
        "    ending_minutes[person] = timeToMinutes(journey[person][0][1])\n",
        "  # common journey begins on arrival time of second person in work\n",
        "  begin = max(starting_minutes['A'],starting_minutes['B'])\n",
        "  # common journey ends on departure time of first person in work\n",
        "  finish = min(ending_minutes['A'],ending_minutes['B'])\n",
        "  return begin, finish"
      ],
      "execution_count": 2,
      "outputs": []
    },
    {
      "cell_type": "markdown",
      "metadata": {
        "id": "HqA2ng6OrK3P"
      },
      "source": [
        "Por fim, nesse último pedaço defino e testo a função principal solicitada no enunciado:"
      ]
    },
    {
      "cell_type": "code",
      "metadata": {
        "colab": {
          "base_uri": "https://localhost:8080/"
        },
        "id": "5-mv5CcErGqC",
        "outputId": "ed10f96e-fe28-49ae-ced1-9e495bbc685f"
      },
      "source": [
        "\n",
        "def matchSchedules(t):\n",
        "  # This function returns all possible meetings of t minutes between 2 agendas with other schedules \n",
        "\n",
        "  # uses common journey to know which times to look\n",
        "  loop_start, loop_stop = commonJourney()\n",
        "\n",
        "  #this list will store all available times found in the loop\n",
        "  available_starttime = [] \n",
        "\n",
        "  #this second step searches for a time interval (from loop_start to loop_start + t) is free in both agendas in this loop\n",
        "  #this has to be done by matching this interval with every appointment of every person's schedule (that's why there's 2 for loops inside)\n",
        "  while loop_start < loop_stop:\n",
        "    #this auxiliary variable will help breaking out of both fors at the same test and telling a time is unavailable\n",
        "    doublebreak = False\n",
        "    print(f'checando disponibilidade às {minutesToTime(loop_start)}')\n",
        "\n",
        "    for person in schedules:\n",
        "      for appointment in schedules[person]:\n",
        "        #checking if starting time of interval is in the middle of an appointment\n",
        "        if timeToMinutes(appointment[0]) <= loop_start and timeToMinutes(appointment[1]) > loop_start:\n",
        "          print('indisponível')\n",
        "          doublebreak = True\n",
        "          break \n",
        "        #checking if end time of interval is in the middle of an appointment\n",
        "        elif timeToMinutes(appointment[0]) < loop_start + t and timeToMinutes(appointment[1]) >= loop_start + t:\n",
        "          print('indisponível')\n",
        "          doublebreak = True\n",
        "          break\n",
        "      if doublebreak:\n",
        "        break\n",
        "    \n",
        "    #an interval will get here only if does not conflict to any appointment of any person's agenda\n",
        "    if not doublebreak:\n",
        "      print('disponível')\n",
        "      available_starttime.append(loop_start)  \n",
        "    loop_start = loop_start + t\n",
        "  \n",
        "  #last step will give the final result\n",
        "  #piece code inside \"if\" will execute only if no appointment of size t was possible between both agendas\n",
        "  if len(available_starttime) == 0:\n",
        "    print(f'\\n Não há horários de {t} minutos possíveis')\n",
        "  else:\n",
        "    print(f'\\n Abaixo os horários de {t} minutos possíveis:')\n",
        "    #This for will convert starting minutes into readable HH:MM - HH:MM intervals\n",
        "    available_schedules = []\n",
        "    for schedule in available_starttime:\n",
        "      available_schedules.append([minutesToTime(schedule),minutesToTime(schedule+t)])\n",
        "    print(available_schedules)\n",
        "    \n",
        "matchSchedules(30)"
      ],
      "execution_count": 5,
      "outputs": [
        {
          "output_type": "stream",
          "text": [
            "checando disponibilidade às 10:00\n",
            "indisponível\n",
            "checando disponibilidade às 10:30\n",
            "indisponível\n",
            "checando disponibilidade às 11:00\n",
            "indisponível\n",
            "checando disponibilidade às 11:30\n",
            "disponível\n",
            "checando disponibilidade às 12:00\n",
            "indisponível\n",
            "checando disponibilidade às 12:30\n",
            "indisponível\n",
            "checando disponibilidade às 13:00\n",
            "indisponível\n",
            "checando disponibilidade às 13:30\n",
            "indisponível\n",
            "checando disponibilidade às 14:00\n",
            "indisponível\n",
            "checando disponibilidade às 14:30\n",
            "indisponível\n",
            "checando disponibilidade às 15:00\n",
            "disponível\n",
            "checando disponibilidade às 15:30\n",
            "disponível\n",
            "checando disponibilidade às 16:00\n",
            "indisponível\n",
            "checando disponibilidade às 16:30\n",
            "indisponível\n",
            "checando disponibilidade às 17:00\n",
            "indisponível\n",
            "checando disponibilidade às 17:30\n",
            "indisponível\n",
            "checando disponibilidade às 18:00\n",
            "disponível\n",
            "\n",
            " Abaixo os horários de 30 minutos possíveis:\n",
            "[['11:30', '12:00'], ['15:00', '15:30'], ['15:30', '16:00'], ['18:00', '18:30']]\n"
          ],
          "name": "stdout"
        }
      ]
    }
  ]
}