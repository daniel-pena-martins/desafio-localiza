{
  "nbformat": 4,
  "nbformat_minor": 0,
  "metadata": {
    "colab": {
      "name": "Localiza desafio 1.ipynb",
      "provenance": [],
      "collapsed_sections": [
        "C1jFOdYcJp49"
      ],
      "toc_visible": true
    },
    "kernelspec": {
      "name": "python3",
      "display_name": "Python 3"
    },
    "language_info": {
      "name": "python"
    }
  },
  "cells": [
    {
      "cell_type": "markdown",
      "metadata": {
        "id": "TyCVVm_htyma"
      },
      "source": [
        "# Localiza desafio 1"
      ]
    },
    {
      "cell_type": "markdown",
      "metadata": {
        "id": "YOeYFMZCt3pr"
      },
      "source": [
        "O gerenciamento do relacionamento com os clientes tem como um dos seus objetivos\n",
        "centrais aumentar o número de clientes ativos da empresa - e a retenção desses clientes é crítica\n",
        "para seu sucesso. Sendo assim, um time foi mobilizado para garantir o desenvolvimento da\n",
        "estratégia de retenção de clientes e, sabendo do seu potencial analítico, você foi convocado para\n",
        "esse desafio.\n",
        "\n",
        "Em busca de uma maior compreensão das particularidades do negócio e de melhor\n",
        "entendimento do cenário do churn, vocês optaram por realizar uma análise exploratória dos\n",
        "dados. Em um primeiro momento algumas hipóteses foram levantadas visando direcionar esse\n",
        "desenvolvimento inicial e, considerando a base de dados disponibilizada e um período de churn\n",
        "de 1 ano, foi requisitado a você a validação da seguinte hipótese:\n",
        "\n",
        "“O churn de novos clientes é maior do que o churn de clientes ativos”"
      ]
    },
    {
      "cell_type": "markdown",
      "metadata": {
        "id": "GEFK9MNBu6sz"
      },
      "source": [
        "## Desenvolvimento\n",
        "\n",
        "A hipótese será contestada diretamente pelo python notebook, observando-se algumas premissas e comparando os dois subgrupos dentro dos clientes.\n",
        "\n",
        " > o primeiro passo será carregar os dados em um dataframe (pandas) e explorar a base disponível"
      ]
    },
    {
      "cell_type": "markdown",
      "metadata": {
        "id": "C1jFOdYcJp49"
      },
      "source": [
        "### Carregando dados"
      ]
    },
    {
      "cell_type": "code",
      "metadata": {
        "colab": {
          "base_uri": "https://localhost:8080/"
        },
        "id": "ykl567D8vQTc",
        "outputId": "9c8290c8-f6b7-4855-84a1-bfac8f3382d4"
      },
      "source": [
        "from google.colab import drive\n",
        "drive.mount('/gdrive')"
      ],
      "execution_count": null,
      "outputs": [
        {
          "output_type": "stream",
          "text": [
            "Mounted at /gdrive\n"
          ],
          "name": "stdout"
        }
      ]
    },
    {
      "cell_type": "code",
      "metadata": {
        "id": "Xv9DKJ8EvQTe"
      },
      "source": [
        "import pandas as pd\n",
        "\n",
        "with open('/gdrive/My Drive/Localiza/base_teste.csv', 'r') as csv:\n",
        "  df = pd.read_csv(csv)"
      ],
      "execution_count": null,
      "outputs": []
    },
    {
      "cell_type": "code",
      "metadata": {
        "id": "WcDnimEZtx18",
        "colab": {
          "base_uri": "https://localhost:8080/",
          "height": 232
        },
        "outputId": "3a281b36-1155-4d0f-aaf1-a023b9e203ac"
      },
      "source": [
        "df.head(5)"
      ],
      "execution_count": null,
      "outputs": [
        {
          "output_type": "execute_result",
          "data": {
            "text/html": [
              "<div>\n",
              "<style scoped>\n",
              "    .dataframe tbody tr th:only-of-type {\n",
              "        vertical-align: middle;\n",
              "    }\n",
              "\n",
              "    .dataframe tbody tr th {\n",
              "        vertical-align: top;\n",
              "    }\n",
              "\n",
              "    .dataframe thead th {\n",
              "        text-align: right;\n",
              "    }\n",
              "</style>\n",
              "<table border=\"1\" class=\"dataframe\">\n",
              "  <thead>\n",
              "    <tr style=\"text-align: right;\">\n",
              "      <th></th>\n",
              "      <th>Unnamed: 0</th>\n",
              "      <th>cidade_retirada</th>\n",
              "      <th>cidade_devolucao</th>\n",
              "      <th>cd_contrato</th>\n",
              "      <th>transporte_locado</th>\n",
              "      <th>data_abertura_contrato</th>\n",
              "      <th>qtd_diarias</th>\n",
              "      <th>data_fechamento_contrato</th>\n",
              "      <th>qtd_hora_extra</th>\n",
              "      <th>cd_cliente</th>\n",
              "    </tr>\n",
              "  </thead>\n",
              "  <tbody>\n",
              "    <tr>\n",
              "      <th>0</th>\n",
              "      <td>0</td>\n",
              "      <td>Hogsmeade</td>\n",
              "      <td>Hogsmeade</td>\n",
              "      <td>HGM048798</td>\n",
              "      <td>Portal</td>\n",
              "      <td>2015-01-26 05:58:37</td>\n",
              "      <td>1</td>\n",
              "      <td>2015-01-27 05:58:37</td>\n",
              "      <td>0</td>\n",
              "      <td>1</td>\n",
              "    </tr>\n",
              "    <tr>\n",
              "      <th>1</th>\n",
              "      <td>1</td>\n",
              "      <td>Springfield</td>\n",
              "      <td>Springfield</td>\n",
              "      <td>SPF030834</td>\n",
              "      <td>Ônibus Escolar</td>\n",
              "      <td>2015-02-05 15:10:19</td>\n",
              "      <td>1</td>\n",
              "      <td>2015-02-06 15:10:19</td>\n",
              "      <td>0</td>\n",
              "      <td>1</td>\n",
              "    </tr>\n",
              "    <tr>\n",
              "      <th>2</th>\n",
              "      <td>2</td>\n",
              "      <td>Porto Real</td>\n",
              "      <td>Porto Real</td>\n",
              "      <td>PRL017782</td>\n",
              "      <td>Barco</td>\n",
              "      <td>2015-05-04 20:49:56</td>\n",
              "      <td>1</td>\n",
              "      <td>2015-05-05 20:49:56</td>\n",
              "      <td>0</td>\n",
              "      <td>1</td>\n",
              "    </tr>\n",
              "    <tr>\n",
              "      <th>3</th>\n",
              "      <td>3</td>\n",
              "      <td>Basin City</td>\n",
              "      <td>Basin City</td>\n",
              "      <td>SIN042621</td>\n",
              "      <td>1960 Corvette</td>\n",
              "      <td>2015-05-07 07:34:04</td>\n",
              "      <td>1</td>\n",
              "      <td>2015-05-08 07:34:04</td>\n",
              "      <td>0</td>\n",
              "      <td>1</td>\n",
              "    </tr>\n",
              "    <tr>\n",
              "      <th>4</th>\n",
              "      <td>4</td>\n",
              "      <td>Godric's Hollow</td>\n",
              "      <td>Godric's Hollow</td>\n",
              "      <td>GDH044954</td>\n",
              "      <td>Testralio</td>\n",
              "      <td>2015-08-01 11:14:48</td>\n",
              "      <td>2</td>\n",
              "      <td>2015-08-03 12:14:48</td>\n",
              "      <td>1</td>\n",
              "      <td>1</td>\n",
              "    </tr>\n",
              "  </tbody>\n",
              "</table>\n",
              "</div>"
            ],
            "text/plain": [
              "   Unnamed: 0  cidade_retirada  ... qtd_hora_extra cd_cliente\n",
              "0           0        Hogsmeade  ...              0          1\n",
              "1           1      Springfield  ...              0          1\n",
              "2           2       Porto Real  ...              0          1\n",
              "3           3       Basin City  ...              0          1\n",
              "4           4  Godric's Hollow  ...              1          1\n",
              "\n",
              "[5 rows x 10 columns]"
            ]
          },
          "metadata": {
            "tags": []
          },
          "execution_count": 8
        }
      ]
    },
    {
      "cell_type": "markdown",
      "metadata": {
        "id": "WIFmnvT_wv1C"
      },
      "source": [
        "Temos em mão somente a base de locação de veículos, com detalhes da locação inclusive do id_cliente que locou o veículo. É o bastante para testarmos a hipótese, mas algumas premissas devem ser definidas:\n",
        "  - **O que caracteriza um novo cliente e um cliente antigo?** \n",
        "  - **A partir de quanto tempo sem locar um transporte o cliente é considerado churn?**"
      ]
    },
    {
      "cell_type": "markdown",
      "metadata": {
        "id": "F_rRoea_J3x3"
      },
      "source": [
        "### Premissas\n",
        "\n",
        "  - **O que caracteriza um novo cliente e um cliente antigo?** A maneira mais fácil e óbvia de separar esses grupos é considerar um cliente como novo na primeira locação e antigo nas subsequentes. \n",
        "  - **A partir de quanto tempo sem locar um transporte o cliente é considerado churn?** Para isso é interessante explorar primeiro a recorrência de locações média de um cliente e se esse número não varia muito de cliente para cliente "
      ]
    },
    {
      "cell_type": "code",
      "metadata": {
        "id": "xU5mJhXWyK9X"
      },
      "source": [
        "metricas_cliente = df.groupby('cd_cliente').agg(primeiro_contrato=('data_abertura_contrato', min), ultimo_contrato=('data_abertura_contrato', max), qtd_contratos=('cd_contrato', 'size')).reset_index()"
      ],
      "execution_count": null,
      "outputs": []
    },
    {
      "cell_type": "code",
      "metadata": {
        "colab": {
          "base_uri": "https://localhost:8080/",
          "height": 195
        },
        "id": "jz0fLOWxzhdD",
        "outputId": "987d1b01-b7c4-4efb-f0e7-4342cf7f5ccb"
      },
      "source": [
        "metricas_cliente.head(5)"
      ],
      "execution_count": null,
      "outputs": [
        {
          "output_type": "execute_result",
          "data": {
            "text/html": [
              "<div>\n",
              "<style scoped>\n",
              "    .dataframe tbody tr th:only-of-type {\n",
              "        vertical-align: middle;\n",
              "    }\n",
              "\n",
              "    .dataframe tbody tr th {\n",
              "        vertical-align: top;\n",
              "    }\n",
              "\n",
              "    .dataframe thead th {\n",
              "        text-align: right;\n",
              "    }\n",
              "</style>\n",
              "<table border=\"1\" class=\"dataframe\">\n",
              "  <thead>\n",
              "    <tr style=\"text-align: right;\">\n",
              "      <th></th>\n",
              "      <th>cd_cliente</th>\n",
              "      <th>primeiro_contrato</th>\n",
              "      <th>ultimo_contrato</th>\n",
              "      <th>qtd_contratos</th>\n",
              "    </tr>\n",
              "  </thead>\n",
              "  <tbody>\n",
              "    <tr>\n",
              "      <th>0</th>\n",
              "      <td>1</td>\n",
              "      <td>2020-10-20 21:26:18</td>\n",
              "      <td>2015-01-26 05:58:37</td>\n",
              "      <td>36</td>\n",
              "    </tr>\n",
              "    <tr>\n",
              "      <th>1</th>\n",
              "      <td>2</td>\n",
              "      <td>2020-12-12 05:39:35</td>\n",
              "      <td>2015-01-31 02:29:17</td>\n",
              "      <td>43</td>\n",
              "    </tr>\n",
              "    <tr>\n",
              "      <th>2</th>\n",
              "      <td>3</td>\n",
              "      <td>2020-10-31 18:15:45</td>\n",
              "      <td>2015-02-12 09:27:50</td>\n",
              "      <td>37</td>\n",
              "    </tr>\n",
              "    <tr>\n",
              "      <th>3</th>\n",
              "      <td>4</td>\n",
              "      <td>2020-12-13 17:31:26</td>\n",
              "      <td>2015-03-06 15:37:42</td>\n",
              "      <td>36</td>\n",
              "    </tr>\n",
              "    <tr>\n",
              "      <th>4</th>\n",
              "      <td>5</td>\n",
              "      <td>2020-12-11 08:37:12</td>\n",
              "      <td>2015-02-24 09:00:59</td>\n",
              "      <td>49</td>\n",
              "    </tr>\n",
              "  </tbody>\n",
              "</table>\n",
              "</div>"
            ],
            "text/plain": [
              "   cd_cliente    primeiro_contrato      ultimo_contrato  qtd_contratos\n",
              "0           1  2020-10-20 21:26:18  2015-01-26 05:58:37             36\n",
              "1           2  2020-12-12 05:39:35  2015-01-31 02:29:17             43\n",
              "2           3  2020-10-31 18:15:45  2015-02-12 09:27:50             37\n",
              "3           4  2020-12-13 17:31:26  2015-03-06 15:37:42             36\n",
              "4           5  2020-12-11 08:37:12  2015-02-24 09:00:59             49"
            ]
          },
          "metadata": {
            "tags": []
          },
          "execution_count": 20
        }
      ]
    },
    {
      "cell_type": "code",
      "metadata": {
        "id": "qLxpA3N406lc"
      },
      "source": [
        "##O Python lê as datas atualmente como strings, é necessário chamar a biblioteca datetime e usar uma conversão\n",
        "import datetime\n",
        "\n",
        "dateConversor = lambda x: datetime.datetime.strptime(x,'%Y-%m-%d %H:%M:%S')\n",
        "\n",
        "metricas_cliente['primeiro_contrato'] = metricas_cliente['primeiro_contrato'].apply(dateConversor)\n",
        "metricas_cliente['ultimo_contrato'] = metricas_cliente['ultimo_contrato'].apply(dateConversor)\n",
        "\n",
        "metricas_cliente['tempo_entre_contratos'] = (metricas_cliente['ultimo_contrato']-metricas_cliente['primeiro_contrato'])/metricas_cliente['qtd_contratos'] "
      ],
      "execution_count": null,
      "outputs": []
    },
    {
      "cell_type": "code",
      "metadata": {
        "id": "FFJeEi5U3pCM"
      },
      "source": [
        "# Usarei o leitor de expressões regulares para extrair somente o dia do tempo entre contratos\n",
        "import re\n",
        "\n",
        "dayExtractor = lambda x: int(re.search(r'^([0-9]*)',str(x)).group(1))\n",
        "\n",
        "metricas_cliente['dias_entre_contratos'] = metricas_cliente['tempo_entre_contratos'].apply(dayExtractor)"
      ],
      "execution_count": null,
      "outputs": []
    },
    {
      "cell_type": "code",
      "metadata": {
        "colab": {
          "base_uri": "https://localhost:8080/",
          "height": 195
        },
        "id": "R0qab3qk24Ak",
        "outputId": "23a43b51-ecad-4d82-cb4f-36fbab68b6fb"
      },
      "source": [
        "metricas_cliente.head(5)"
      ],
      "execution_count": null,
      "outputs": [
        {
          "output_type": "execute_result",
          "data": {
            "text/html": [
              "<div>\n",
              "<style scoped>\n",
              "    .dataframe tbody tr th:only-of-type {\n",
              "        vertical-align: middle;\n",
              "    }\n",
              "\n",
              "    .dataframe tbody tr th {\n",
              "        vertical-align: top;\n",
              "    }\n",
              "\n",
              "    .dataframe thead th {\n",
              "        text-align: right;\n",
              "    }\n",
              "</style>\n",
              "<table border=\"1\" class=\"dataframe\">\n",
              "  <thead>\n",
              "    <tr style=\"text-align: right;\">\n",
              "      <th></th>\n",
              "      <th>cd_cliente</th>\n",
              "      <th>primeiro_contrato</th>\n",
              "      <th>ultimo_contrato</th>\n",
              "      <th>qtd_contratos</th>\n",
              "      <th>tempo_entre_contratos</th>\n",
              "      <th>dias_entre_contratos</th>\n",
              "    </tr>\n",
              "  </thead>\n",
              "  <tbody>\n",
              "    <tr>\n",
              "      <th>0</th>\n",
              "      <td>1</td>\n",
              "      <td>2015-01-26 05:58:37</td>\n",
              "      <td>2020-10-20 21:26:18</td>\n",
              "      <td>36</td>\n",
              "      <td>58 days 04:25:46.138888888</td>\n",
              "      <td>58</td>\n",
              "    </tr>\n",
              "    <tr>\n",
              "      <th>1</th>\n",
              "      <td>2</td>\n",
              "      <td>2015-01-31 02:29:17</td>\n",
              "      <td>2020-12-12 05:39:35</td>\n",
              "      <td>43</td>\n",
              "      <td>49 days 19:36:31.116279069</td>\n",
              "      <td>49</td>\n",
              "    </tr>\n",
              "    <tr>\n",
              "      <th>2</th>\n",
              "      <td>3</td>\n",
              "      <td>2015-02-12 09:27:50</td>\n",
              "      <td>2020-10-31 18:15:45</td>\n",
              "      <td>37</td>\n",
              "      <td>56 days 10:36:58.243243243</td>\n",
              "      <td>56</td>\n",
              "    </tr>\n",
              "    <tr>\n",
              "      <th>3</th>\n",
              "      <td>4</td>\n",
              "      <td>2015-03-06 15:37:42</td>\n",
              "      <td>2020-12-13 17:31:26</td>\n",
              "      <td>36</td>\n",
              "      <td>58 days 14:03:09.555555555</td>\n",
              "      <td>58</td>\n",
              "    </tr>\n",
              "    <tr>\n",
              "      <th>4</th>\n",
              "      <td>5</td>\n",
              "      <td>2015-02-24 09:00:59</td>\n",
              "      <td>2020-12-11 08:37:12</td>\n",
              "      <td>49</td>\n",
              "      <td>43 days 04:53:23.530612244</td>\n",
              "      <td>43</td>\n",
              "    </tr>\n",
              "  </tbody>\n",
              "</table>\n",
              "</div>"
            ],
            "text/plain": [
              "   cd_cliente  ... dias_entre_contratos\n",
              "0           1  ...                   58\n",
              "1           2  ...                   49\n",
              "2           3  ...                   56\n",
              "3           4  ...                   58\n",
              "4           5  ...                   43\n",
              "\n",
              "[5 rows x 6 columns]"
            ]
          },
          "metadata": {
            "tags": []
          },
          "execution_count": 41
        }
      ]
    },
    {
      "cell_type": "markdown",
      "metadata": {
        "id": "-SRar-8KnR71"
      },
      "source": [
        "Uma vez que tenho a recorrência de cada cliente na *metricas_cliente* farei novas agregações para entender recorrência média dentre outras métricas estatísticas, e verificar seu comportamento na base."
      ]
    },
    {
      "cell_type": "code",
      "metadata": {
        "colab": {
          "base_uri": "https://localhost:8080/"
        },
        "id": "e5EQfc0m6SPZ",
        "outputId": "9ae88045-a56a-4464-fed0-173a1f1668e6"
      },
      "source": [
        "# chamando bilbioteca numpy par tirar os percentis\n",
        "import numpy as np\n",
        "\n",
        "agg = metricas_cliente[metricas_cliente.qtd_contratos > 1]['dias_entre_contratos']\n",
        "\n",
        "print('mean: '+str(agg.mean()))\n",
        "print('std: '+str(agg.std()))\n",
        "print('min: '+str(agg.min()))\n",
        "print('quartile 1: '+str(np.percentile(agg,25)))\n",
        "print('median: '+str(np.percentile(agg,50)))\n",
        "print('quartile 3: '+str(np.percentile(agg,75)))\n",
        "print('max: '+str(agg.max()))"
      ],
      "execution_count": null,
      "outputs": [
        {
          "output_type": "stream",
          "text": [
            "mean: 212.35822773948112\n",
            "std: 165.84038961335872\n",
            "min: 1\n",
            "quartile 1: 89.0\n",
            "median: 164.0\n",
            "quartile 3: 283.0\n",
            "max: 1078\n"
          ],
          "name": "stdout"
        }
      ]
    },
    {
      "cell_type": "markdown",
      "metadata": {
        "id": "NSKy5shWFWep"
      },
      "source": [
        "Notamos que em média os clientes demoram 212 dias para realizar uma nova locação, porém esse número varia muito na base, sendo inseguro afirmar um churn a partir de 212 dias sem locação. Também notamos pela mediana e percentis que a grande maioria dos clientes tem intervalos de locação menores e alguns poucos puxam a média para cima.\n",
        "\n",
        "Já que a hipótese é atemporal (não necessitamos dar peso maior para churns mais recente ou desconsiderar churns antigos), para definir o churn de forma segura usarei o percentil 80\n"
      ]
    },
    {
      "cell_type": "code",
      "metadata": {
        "colab": {
          "base_uri": "https://localhost:8080/"
        },
        "id": "irhpvFfEFU85",
        "outputId": "ed80c166-3876-4cac-d5ec-fe0ef042107f"
      },
      "source": [
        "daysToChurn = np.percentile(agg,80)\n",
        "\n",
        "print('percentile 80: '+str(daysToChurn))"
      ],
      "execution_count": null,
      "outputs": [
        {
          "output_type": "stream",
          "text": [
            "percentile 80: 321.0\n"
          ],
          "name": "stdout"
        }
      ]
    },
    {
      "cell_type": "markdown",
      "metadata": {
        "id": "C-JVuvfaH7AN"
      },
      "source": [
        "Ou seja, considerando **churn como cliente sem novo contrato a 321 dias** posso afirmar com 80% de certeza que se trata de um churn, pois **80% dos clientes já teriam feito nova locação nesse período**"
      ]
    },
    {
      "cell_type": "markdown",
      "metadata": {
        "id": "wUx_WUDTKQuE"
      },
      "source": [
        "### Cálculo de churn em cada grupo\n",
        "\n",
        "Uma vez que estão definidos os grupos e o que é churn fica fácil separá-los. Começarei a partir do dataframe *metricas_cliente* trabalhado na última sessão, também usarei o *daysToChurn*, número de dias sem nova locação para considerar um churn, definido na última sessão."
      ]
    },
    {
      "cell_type": "code",
      "metadata": {
        "colab": {
          "base_uri": "https://localhost:8080/"
        },
        "id": "_aAKgbTuIdrV",
        "outputId": "f837f975-c125-4ea5-de73-847f37c89c18"
      },
      "source": [
        "novoOuAntigo = lambda x: True if x == 1 else False\n",
        "\n",
        "metricas_cliente['novo?'] = metricas_cliente['qtd_contratos'].apply(novoOuAntigo)\n",
        "\n",
        "metricas_cliente.groupby('novo?').size()"
      ],
      "execution_count": null,
      "outputs": [
        {
          "output_type": "execute_result",
          "data": {
            "text/plain": [
              "novo?\n",
              "False    34961\n",
              "True      9881\n",
              "dtype: int64"
            ]
          },
          "metadata": {
            "tags": []
          },
          "execution_count": 78
        }
      ]
    },
    {
      "cell_type": "markdown",
      "metadata": {
        "id": "RtNOUgLcMX8B"
      },
      "source": [
        "Como para aplicar o churn de cliente inativo a 321 dias, tenho que saber qual é o dia de \"hoje\", ou seja, até quando o CSV que estou usando tem dados e usá-lo como proxy do dia em que esses dados foram consultados. "
      ]
    },
    {
      "cell_type": "code",
      "metadata": {
        "colab": {
          "base_uri": "https://localhost:8080/"
        },
        "id": "zwE_01QgMMkt",
        "outputId": "8b9c0336-0487-4364-d4a9-49ca3f2edf20"
      },
      "source": [
        "metricas_cliente['ultimo_contrato'].max()"
      ],
      "execution_count": null,
      "outputs": [
        {
          "output_type": "execute_result",
          "data": {
            "text/plain": [
              "Timestamp('2020-12-31 23:54:45')"
            ]
          },
          "metadata": {
            "tags": []
          },
          "execution_count": 79
        }
      ]
    },
    {
      "cell_type": "code",
      "metadata": {
        "colab": {
          "base_uri": "https://localhost:8080/"
        },
        "id": "kNZmmVKoH1Ak",
        "outputId": "227f27d1-7b77-4e1e-ea2d-ebeb3052d51b"
      },
      "source": [
        "churnTreshold = metricas_cliente['ultimo_contrato'].max() - datetime.timedelta(days=daysToChurn)\n",
        "\n",
        "# Churn se a última locação foi antes da data corte definida acima\n",
        "churnCalculator = lambda x: True if x < churnTreshold else False\n",
        "\n",
        "metricas_cliente['churn?'] = metricas_cliente['ultimo_contrato'].apply(churnCalculator)\n",
        "\n",
        "metricas_cliente.groupby('churn?').size()"
      ],
      "execution_count": null,
      "outputs": [
        {
          "output_type": "execute_result",
          "data": {
            "text/plain": [
              "churn?\n",
              "False    25718\n",
              "True     19124\n",
              "dtype: int64"
            ]
          },
          "metadata": {
            "tags": []
          },
          "execution_count": 85
        }
      ]
    },
    {
      "cell_type": "markdown",
      "metadata": {
        "id": "HApbJzHhn5ty"
      },
      "source": [
        "Por fim cruzarei ambas as definições de churn e novo / recorrente"
      ]
    },
    {
      "cell_type": "code",
      "metadata": {
        "colab": {
          "base_uri": "https://localhost:8080/",
          "height": 195
        },
        "id": "xeS5zuK-O5Gr",
        "outputId": "d1eb38e4-21cd-4bcb-919c-2b5dea75e1c4"
      },
      "source": [
        "churn_por_grupo = metricas_cliente[['cd_cliente','novo?','churn?']].groupby(['novo?','churn?']).count()\n",
        "\n",
        "churn_por_grupo_perc = metricas_cliente[['cd_cliente','novo?','churn?']].groupby(['novo?','churn?']).count()/metricas_cliente[['cd_cliente','novo?']].groupby('novo?').count()\n",
        "\n",
        "churn_por_grupo = churn_por_grupo.rename(columns={'cd_cliente': 'qtd_clientes'})\n",
        "churn_por_grupo_perc = churn_por_grupo_perc.rename(columns={'cd_cliente': 'taxa'})\n",
        "\n",
        "churn_por_grupo['taxa'] = 0\n",
        "churn_por_grupo_perc['qtd_clientes'] = 0\n",
        "\n",
        "churn_por_grupo + churn_por_grupo_perc"
      ],
      "execution_count": null,
      "outputs": [
        {
          "output_type": "execute_result",
          "data": {
            "text/html": [
              "<div>\n",
              "<style scoped>\n",
              "    .dataframe tbody tr th:only-of-type {\n",
              "        vertical-align: middle;\n",
              "    }\n",
              "\n",
              "    .dataframe tbody tr th {\n",
              "        vertical-align: top;\n",
              "    }\n",
              "\n",
              "    .dataframe thead th {\n",
              "        text-align: right;\n",
              "    }\n",
              "</style>\n",
              "<table border=\"1\" class=\"dataframe\">\n",
              "  <thead>\n",
              "    <tr style=\"text-align: right;\">\n",
              "      <th></th>\n",
              "      <th></th>\n",
              "      <th>qtd_clientes</th>\n",
              "      <th>taxa</th>\n",
              "    </tr>\n",
              "    <tr>\n",
              "      <th>novo?</th>\n",
              "      <th>churn?</th>\n",
              "      <th></th>\n",
              "      <th></th>\n",
              "    </tr>\n",
              "  </thead>\n",
              "  <tbody>\n",
              "    <tr>\n",
              "      <th rowspan=\"2\" valign=\"top\">False</th>\n",
              "      <th>False</th>\n",
              "      <td>24308</td>\n",
              "      <td>0.695289</td>\n",
              "    </tr>\n",
              "    <tr>\n",
              "      <th>True</th>\n",
              "      <td>10653</td>\n",
              "      <td>0.304711</td>\n",
              "    </tr>\n",
              "    <tr>\n",
              "      <th rowspan=\"2\" valign=\"top\">True</th>\n",
              "      <th>False</th>\n",
              "      <td>1410</td>\n",
              "      <td>0.142698</td>\n",
              "    </tr>\n",
              "    <tr>\n",
              "      <th>True</th>\n",
              "      <td>8471</td>\n",
              "      <td>0.857302</td>\n",
              "    </tr>\n",
              "  </tbody>\n",
              "</table>\n",
              "</div>"
            ],
            "text/plain": [
              "              qtd_clientes      taxa\n",
              "novo? churn?                        \n",
              "False False          24308  0.695289\n",
              "      True           10653  0.304711\n",
              "True  False           1410  0.142698\n",
              "      True            8471  0.857302"
            ]
          },
          "metadata": {
            "tags": []
          },
          "execution_count": 99
        }
      ]
    },
    {
      "cell_type": "markdown",
      "metadata": {
        "id": "D1DGdcdmRDid"
      },
      "source": [
        "## Conclusão\n",
        "\n"
      ]
    },
    {
      "cell_type": "code",
      "metadata": {
        "colab": {
          "base_uri": "https://localhost:8080/",
          "height": 195
        },
        "id": "hopTi4VaRJ1J",
        "outputId": "1634b8fb-a826-47e7-a087-4388cd171b14"
      },
      "source": [
        "churn_por_grupo + churn_por_grupo_perc"
      ],
      "execution_count": null,
      "outputs": [
        {
          "output_type": "execute_result",
          "data": {
            "text/html": [
              "<div>\n",
              "<style scoped>\n",
              "    .dataframe tbody tr th:only-of-type {\n",
              "        vertical-align: middle;\n",
              "    }\n",
              "\n",
              "    .dataframe tbody tr th {\n",
              "        vertical-align: top;\n",
              "    }\n",
              "\n",
              "    .dataframe thead th {\n",
              "        text-align: right;\n",
              "    }\n",
              "</style>\n",
              "<table border=\"1\" class=\"dataframe\">\n",
              "  <thead>\n",
              "    <tr style=\"text-align: right;\">\n",
              "      <th></th>\n",
              "      <th></th>\n",
              "      <th>qtd_clientes</th>\n",
              "      <th>taxa</th>\n",
              "    </tr>\n",
              "    <tr>\n",
              "      <th>novo?</th>\n",
              "      <th>churn?</th>\n",
              "      <th></th>\n",
              "      <th></th>\n",
              "    </tr>\n",
              "  </thead>\n",
              "  <tbody>\n",
              "    <tr>\n",
              "      <th rowspan=\"2\" valign=\"top\">False</th>\n",
              "      <th>False</th>\n",
              "      <td>24308</td>\n",
              "      <td>0.695289</td>\n",
              "    </tr>\n",
              "    <tr>\n",
              "      <th>True</th>\n",
              "      <td>10653</td>\n",
              "      <td>0.304711</td>\n",
              "    </tr>\n",
              "    <tr>\n",
              "      <th rowspan=\"2\" valign=\"top\">True</th>\n",
              "      <th>False</th>\n",
              "      <td>1410</td>\n",
              "      <td>0.142698</td>\n",
              "    </tr>\n",
              "    <tr>\n",
              "      <th>True</th>\n",
              "      <td>8471</td>\n",
              "      <td>0.857302</td>\n",
              "    </tr>\n",
              "  </tbody>\n",
              "</table>\n",
              "</div>"
            ],
            "text/plain": [
              "              qtd_clientes      taxa\n",
              "novo? churn?                        \n",
              "False False          24308  0.695289\n",
              "      True           10653  0.304711\n",
              "True  False           1410  0.142698\n",
              "      True            8471  0.857302"
            ]
          },
          "metadata": {
            "tags": []
          },
          "execution_count": 100
        }
      ]
    },
    {
      "cell_type": "markdown",
      "metadata": {
        "id": "nB8UznGtRMoy"
      },
      "source": [
        "Podemos **validar a hipótese** levantada ao comparar que a taxa de churn dentro dos novos clientes (85%) é muito maior que a de clientes recorrentes (30%).\n",
        "\n",
        "Dado que estamos trabalhando com populações inteiras e que a taxa encontrada é muito diferente, não há necessidade de realizarmos testes estatísticos sofisticados para comprovar essa hipótese."
      ]
    }
  ]
}